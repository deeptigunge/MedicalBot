{
 "cells": [
  {
   "cell_type": "markdown",
   "metadata": {},
   "source": [
    "# Medical Bot\n",
    "\n",
    "This project is an extension of the Chatbot, named the MedicalBot. The purpose of the MedicalBot is to direct the user to the correct phone number to call based on the type of medical advice the user needs. First, the MedicalBot will ask if the user needs advice for a child or adult. Based on that, the MedicalBot will give a list of specializations the user needs to be directed to. Based on the specialization selected, the MedicalBot will provide a phone number for the user to call, and then exit out of the chat."
   ]
  },
  {
   "cell_type": "markdown",
   "metadata": {},
   "source": [
    "This is the code the use the Medical Bot"
   ]
  },
  {
   "cell_type": "code",
   "execution_count": 5,
   "metadata": {},
   "outputs": [],
   "source": [
    "from my_module.medical_bot_functions import *\n",
    "from my_module.medical_bot_test_functions import *"
   ]
  },
  {
   "cell_type": "code",
   "execution_count": 6,
   "metadata": {},
   "outputs": [
    {
     "name": "stdout",
     "output_type": "stream",
     "text": [
      "Hi! Welcome to the Medical Helpline\n",
      "I am here to help you get the right kind of care\n",
      "Are you here to receive medical advice? Type yes or no\n",
      "At any point if you would like to exit this chat, type no\n",
      "yes\n",
      "Great! Is this medical advice for a child or an adult?\n",
      "child\n",
      "Pick what specialization the advice is needed for: Neonatology, Cardiology, Oncology, Pulmonology, Psychiatry, Infectious Diseases, or Other\n",
      "Neonatology\n",
      "Call 510-739-4729\n"
     ]
    }
   ],
   "source": [
    "# This is the main function to run the Medical Bot\n",
    "get_medical_advice()"
   ]
  }
 ],
 "metadata": {
  "kernelspec": {
   "display_name": "Python 3",
   "language": "python",
   "name": "python3"
  },
  "language_info": {
   "codemirror_mode": {
    "name": "ipython",
    "version": 3
   },
   "file_extension": ".py",
   "mimetype": "text/x-python",
   "name": "python",
   "nbconvert_exporter": "python",
   "pygments_lexer": "ipython3",
   "version": "3.6.7"
  }
 },
 "nbformat": 4,
 "nbformat_minor": 2
}
